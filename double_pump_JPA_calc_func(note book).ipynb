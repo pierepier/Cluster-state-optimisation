{
 "cells": [
  {
   "cell_type": "code",
   "execution_count": 64,
   "id": "c45995e4-386b-4f79-a287-85ac94bc890e",
   "metadata": {
    "lines_to_next_cell": 2
   },
   "outputs": [
    {
     "name": "stdout",
     "output_type": "stream",
     "text": [
      "mode_index [-2 -1  0  1]\n",
      "center freq 27017.69682087222\n",
      "comb freqs [26988.79416846 27003.24549467 27017.69682087 27032.14814708]\n"
     ]
    }
   ],
   "source": [
    "import numpy as np\n",
    "import networkx as nx\n",
    "from scipy.optimize import minimize\n",
    "import scipy.linalg as LA    \n",
    "import matplotlib.pyplot as plt \n",
    "import cma \n",
    "import ipdb\n",
    "\n",
    "#number of modes in covariance matrix\n",
    "n_modes = 4\n",
    "\n",
    "#mode index\n",
    "#generates a comb of modes centered on index 0\n",
    "n_index = np.arange(n_modes) - n_modes//2\n",
    "print(\"mode_index\",n_index)\n",
    "\n",
    "# #JPA resonance (MHz)\n",
    "omega_0p = np.array([ 2*np.pi*4.3e3 ])\n",
    "\n",
    "#dissipation rates (MHZ)\n",
    "gamma_int = 2*np.pi*20e-3 * np.ones_like(omega_0p)\n",
    "gamma_ext = 2*np.pi*300* np.ones_like(omega_0p)\n",
    "gamma_p = gamma_ext \n",
    "\n",
    "#pump_frequencies (MHz)\n",
    "p1_freq = 2*2*np.pi*4.3023e3\n",
    "p2_freq = 2*2*np.pi*4.2977e3\n",
    "\n",
    "#mode frequencies, set up frequency comb\n",
    "center_comb_freq = (p2_freq + p1_freq)/4\n",
    "comb_det = np.abs(p2_freq - p1_freq)/4\n",
    "comb_freqs = center_comb_freq + n_index*comb_det\n",
    "print(\"center freq\", center_comb_freq)\n",
    "print(\"comb freqs\", comb_freqs)\n",
    "\n",
    "#-----------set pump positions and strengths -------------------\n",
    "#pump mode positions, enter a numpy array\n",
    "#pump_position = np.array([-1.0,1.0])\n",
    "\n",
    "#enter pump amp and phase (enter a complex number)\n",
    "#effective pump amplitude\n",
    "phi1 = 4e-3*np.exp(0)\n",
    "phi2 = 4e-3*np.exp(0)\n",
    "phi3 = 4e-3*np.exp(0)\n",
    "phi4 = 4e-3*np.exp(0)\n",
    "\n",
    "#bias point\n",
    "phi_DC = 0.6*np.pi"
   ]
  },
  {
   "cell_type": "code",
   "execution_count": 65,
   "id": "b617f3d1-fa04-4be6-860d-bc96f05765cf",
   "metadata": {
    "lines_to_next_cell": 2
   },
   "outputs": [],
   "source": [
    "def get_cov_matrix(pump_amplitudes):\n",
    "    \n",
    "    if len(pump_amplitudes) != 2*n_modes - 1:\n",
    "        sys.exit(\"Wrong length of pump_amplitudes. It is \" + str(len(pump_amplitudes)) + \" but should be \" + str(2*n_modes - 1))\n",
    "    \n",
    "    # get pump_position and pump_strength, \n",
    "    # create list of nonzero pump amplitudes\n",
    "    pump_strength = pump_amplitudes[np.nonzero(pump_amplitudes)]\n",
    "    \n",
    "    all_pump_pos = np.arange(np.min(n_index), np.max(n_index) + 0.5, 0.5)\n",
    "    # create list of pump positions where the pump amplitude is nonzero\n",
    "    pump_position = all_pump_pos[np.nonzero(pump_amplitudes)]\n",
    "\n",
    "    #print(\"pump_pos\", pump_position)\n",
    "\n",
    "    M = np.zeros(( n_modes*2, n_modes*2 ), dtype = complex)\n",
    "    \n",
    "    for i, s in enumerate(n_index):\n",
    "    \n",
    "        idler_positions = 2*pump_position - s\n",
    "    \n",
    "        if len(omega_0p) == 1:\n",
    "            omega_0 = omega_0p[0]\n",
    "            gamma = gamma_p[0]\n",
    "            K = np.identity(2*n_modes)*np.sqrt(gamma_ext)\n",
    "            K_loss = np.identity(2*n_modes)*np.sqrt(gamma_int)\n",
    "        else:\n",
    "            omega_0 = omega_0p[i]\n",
    "            gamma = gamma_p[i]\n",
    "            K = np.block( [[ np.diag(np.sqrt(gamma_ext)), np.zeros((n_modes, n_modes)) ], \n",
    "                       [ np.zeros((n_modes, n_modes)), np.diag(np.sqrt(gamma_ext)) ]] )\n",
    "            K_loss = np.block( [[ np.diag(np.sqrt(gamma_int)), np.zeros((n_modes, n_modes)) ], \n",
    "                            [ np.zeros((n_modes, n_modes)), np.diag(np.sqrt(gamma_int)) ]] )\n",
    "\n",
    "    \n",
    "        #constructing the mode coupling matrix M\n",
    "        for pos, i1 in enumerate(idler_positions):\n",
    "            if np.any(n_index == i1):\n",
    "                j = np.where(n_index == i1)[0][0]\n",
    "                #coupling strength given below\n",
    "                #coupling depends on system, for SAW see the off-diagonal terms below eq. S35 in SAW supplementary\n",
    "                #should be much smaller than the linewidth\n",
    "                conver_rate = -omega_0/4*np.tan(phi_DC)*pump_strength[pos]*np.pi #for JPA\n",
    "                #conver_rate = -pump_strength[pos]\n",
    "                M[i,j+n_modes] = conver_rate\n",
    "                M[i+n_modes, j] = -np.conjugate(conver_rate)\n",
    "        \n",
    "\n",
    "\n",
    "        diag_val = comb_freqs[i] - omega_0 + 1j*gamma/2\n",
    "        diag_val_conj = -np.conjugate(diag_val)\n",
    "    \n",
    "        M[i, i] = diag_val\n",
    "        M[i+n_modes, i+n_modes] = diag_val_conj\n",
    "\n",
    "\n",
    "    #calculating the scattering matrix\n",
    "    M_inv = np.linalg.inv(M)\n",
    "    S = 1j*K.dot(M_inv).dot(K) - np.identity(2*n_modes)\n",
    "    #for the internal loss channel, we need a second term\n",
    "    Sp = 1j*K.dot(M_inv).dot(K_loss)\n",
    "\n",
    "\n",
    "    # ----------------------- calculate the covariance matrix ----------------\n",
    "    #convert scattering basis to the x, p basis\n",
    "    #the vector ordering becomes (x1, x2, ...., p1,p2,....)\n",
    "    X = np.zeros_like(S, dtype = complex)\n",
    "    for ii in range(n_modes):\n",
    "        X[ii, ii], X[ii, ii+n_modes] = np.ones(2)\n",
    "        X[ii+n_modes, ii] = -1j\n",
    "        X[ii+n_modes, ii+n_modes] = 1j\n",
    "    \n",
    "    #transform scattering matrix\n",
    "    X_inv = np.linalg.inv(X)\n",
    "    S_xp = X.dot(S).dot(X_inv)\n",
    "    Sp_xp = X.dot(Sp).dot(X_inv)\n",
    "\n",
    "    #check if it is symplectic\n",
    "    symp = np.block( [ [np.zeros((n_modes, n_modes)), np.identity(n_modes)], [-1*np.identity(n_modes), np.zeros((n_modes, n_modes))] ] )\n",
    "\n",
    "    symp2 = S_xp.dot(symp).dot(np.transpose(S_xp))\n",
    "\n",
    "    result = np.all(np.round( np.real(symp2) , 3) == symp )\n",
    "    #print(' The transformation is symplectic: ' + str(result) )\n",
    "\n",
    "    # calculate resulting covariance matrix\n",
    "    #input noise:\n",
    "    n_noise = 0\n",
    "    V_input = (2*n_noise + 1)*np.identity(2*n_modes)\n",
    "    #noise from loss channel, we can assume it is at the same temperature as the input channel\n",
    "    V_loss = V_input\n",
    "    #output statistics\n",
    "    noise_from_loss_channel = np.real(Sp_xp.dot(V_loss).dot( np.transpose(Sp_xp) ))\n",
    "    V_output = np.real(S_xp.dot(V_input).dot( np.transpose(S_xp) )) + noise_from_loss_channel\n",
    "\n",
    "    #re-order V_output into the (x1, p1, x2, p2...) ordering basis\n",
    "    V_out_reorder = np.zeros_like(V_output)\n",
    "    V_out_reorder[0:2*n_modes:2, 0:2*n_modes:2] = V_output[0:n_modes, 0:n_modes]\n",
    "    V_out_reorder[1:2*n_modes:2, 1:2*n_modes:2] = V_output[n_modes:, n_modes:]\n",
    "    V_out_reorder[0:2*n_modes:2, 1:2*n_modes:2] = V_output[0:n_modes, n_modes:]\n",
    "    V_out_reorder[1:2*n_modes:2, 0:2*n_modes:2] = V_output[n_modes:, 0:n_modes] \n",
    "\n",
    "    return M, V_out_reorder"
   ]
  },
  {
   "cell_type": "code",
   "execution_count": 66,
   "id": "3dec36c2-8bea-445d-b515-7ee9a7096a88",
   "metadata": {},
   "outputs": [
    {
     "data": {
      "image/png": "[encoded data removed]",
      "text/plain": [
       "<Figure size 432x288 with 2 Axes>"
      ]
     },
     "metadata": {
      "needs_background": "light"
     },
     "output_type": "display_data"
    }
   ],
   "source": [
    "pump_occupation = [0,0,30,30,30,0,0]\n",
    "\n",
    "pump_amplitudes = np.multiply(pump_occupation, phi1)\n",
    "\n",
    "M, V_out_example = get_cov_matrix(pump_amplitudes)\n",
    "plt.imshow(V_out_example);\n",
    "plt.colorbar();"
   ]
  },
  {
   "cell_type": "code",
   "execution_count": 87,
   "id": "572279d3-8d66-4368-aa6d-4d2c4e9a1f24",
   "metadata": {},
   "outputs": [],
   "source": [
    "def optimizationfunction(pump_geuss):\n",
    "    pump_test=np.multiply(pump_geuss, phi1)\n",
    "    #Insert the covariance matrix for [0,0,30,30,30,0,0] as the optimal case:\n",
    "    M1, V_output= get_cov_matrix(pump_test)\n",
    "    V_optimal=V_out_example\n",
    "    diff=np.linalg.norm(V_output-V_optimal)\n",
    "    return diff"
   ]
  },
  {
   "cell_type": "code",
   "execution_count": 88,
   "id": "059dfb43-24f0-4879-9e0e-f7c9fa7936c0",
   "metadata": {},
   "outputs": [],
   "source": [
    "def optimizer(pump_assumption):\n",
    "    #es = cma.CMAEvolutionStrategy(pump_assumption, 0.2,{'bounds': [[0], [50]]})\n",
    "    #es.optimize(optimizationfunction)\n",
    "    #out=es.result_pretty()\n",
    "    #pump_close=out[0]\n",
    "    \n",
    "    \n",
    "    #out=minimize(optimizationfunction,pump_assumption,method='Nelder-Mead')\n",
    "    #pump_close=out.x\n",
    "    \n",
    "    \n",
    "    out = cma.fmin(optimizationfunction, pump_assumption, 0.2, {'bounds':[0,50]})\n",
    "    pump_close=out[0]\n",
    "    return pump_close"
   ]
  },
  {
   "cell_type": "code",
   "execution_count": 92,
   "id": "ea784ccf-a836-4ab7-8897-533e6a1dadaa",
   "metadata": {},
   "outputs": [
    {
     "name": "stdout",
     "output_type": "stream",
     "text": [
      "(4_w,9)-aCMA-ES (mu_w=2.8,w_1=49%) in dimension 7 (seed=868553, Wed Apr 13 11:10:32 2022)\n",
      "Iterat #Fevals   function value  axis ratio  sigma  min&max std  t[m:s]\n",
      "    1      9 1.314148713028661e-01 1.0e+00 1.96e-01  2e-01  2e-01 0:00.0\n",
      "    2     18 1.359645949667118e-01 1.3e+00 1.93e-01  2e-01  2e-01 0:00.0\n",
      "    3     27 1.132990694572524e-01 1.2e+00 1.78e-01  2e-01  2e-01 0:00.0\n",
      "  100    900 1.682670850132715e-03 1.7e+01 3.05e-02  1e-02  2e-02 0:00.7\n",
      "  200   1800 5.252681613343690e-05 8.8e+01 3.64e-03  4e-04  2e-03 0:01.4\n",
      "  300   2700 2.234048830242976e-06 4.6e+02 1.02e-03  2e-05  4e-04 0:02.1\n",
      "  400   3600 2.598024612695685e-07 1.1e+03 1.03e-03  2e-06  2e-04 0:02.8\n",
      "  500   4500 1.196446482464912e-08 4.9e+03 2.89e-04  9e-08  3e-05 0:03.5\n",
      "  600   5400 6.784013870694393e-10 2.2e+04 6.54e-05  3e-09  5e-06 0:04.1\n",
      "  700   6300 2.403925110216427e-10 5.8e+04 1.75e-04  2e-09  7e-06 0:04.8\n",
      "NOTE (module=cma, iteration=797):  \n",
      "condition in coordinate system exceeded 1.0e+08, rescaled to 1.0e+00, \n",
      "condition changed from 8.5e+09 to 4.1e+02\n",
      "  800   7200 1.950089765995612e-11 2.4e+01 9.58e-05  2e-10  2e-06 0:05.5\n",
      "  846   7614 2.836338280221185e-12 4.2e+01 2.06e-05  2e-11  3e-07 0:05.8\n",
      "termination on tolfun=1e-11 (Wed Apr 13 11:10:39 2022)\n",
      "final/bestever f-value = 2.759216e-12 2.759216e-12\n",
      "incumbent solution: [5.641937494134e-11, 8.290207405038817e-11, 30.00000000009081, 30.000000000086192, 30.00000000007158, 4.5332888585728485e-11, 2.0449809494411137e-12]\n",
      "std deviation: [2.0893332957990156e-07, 1.6646755613175744e-07, 2.1231811740831163e-11, 2.0651891201007885e-11, 2.0766725058707376e-11, 2.906408027927828e-07, 3.1530063880294076e-07]\n"
     ]
    }
   ],
   "source": [
    "#pump_assumption=np.zeros_like(pump_occupation)\n",
    "pump_assumption=[0,0,29,29,29,0,0]\n",
    "\n",
    "pump_optimized0=optimizer(pump_assumption)\n",
    "\n",
    "pump_optimized = np.multiply(pump_optimized0, phi1)\n",
    "\n",
    "M1, V_optimized=get_cov_matrix(pump_optimized)"
   ]
  },
  {
   "cell_type": "code",
   "execution_count": 93,
   "id": "4bec2628-7c6a-4b99-9373-49c9fb8dcb50",
   "metadata": {
    "tags": []
   },
   "outputs": [
    {
     "data": {
      "text/plain": [
       "<matplotlib.colorbar.Colorbar at 0x21688c06940>"
      ]
     },
     "execution_count": 93,
     "metadata": {},
     "output_type": "execute_result"
    },
    {
     "data": {
      "image/png": "[encoded data removed]",
      "text/plain": [
       "<Figure size 432x288 with 2 Axes>"
      ]
     },
     "metadata": {
      "needs_background": "light"
     },
     "output_type": "display_data"
    }
   ],
   "source": [
    "plt.imshow(V_optimized)\n",
    "# ax.set_title('weighted covariance matrix ON')\n",
    "plt.colorbar()"
   ]
  },
  {
   "cell_type": "code",
   "execution_count": 94,
   "id": "b1d4ea7b-e563-4db4-a51f-fd4cfcf1b1c9",
   "metadata": {},
   "outputs": [
    {
     "name": "stdout",
     "output_type": "stream",
     "text": [
      "[5.64193749e-11 8.29020741e-11 3.00000000e+01 3.00000000e+01\n",
      " 3.00000000e+01 4.53328886e-11 2.04498095e-12]\n"
     ]
    }
   ],
   "source": [
    "print(pump_optimized0)"
   ]
  },
  {
   "cell_type": "code",
   "execution_count": null,
   "id": "9366788b-9fad-447b-bc9b-935024feb667",
   "metadata": {},
   "outputs": [],
   "source": []
  },
  {
   "cell_type": "code",
   "execution_count": null,
   "id": "6ea724eb-e73e-4e9d-93cd-bd9edc1d956a",
   "metadata": {},
   "outputs": [],
   "source": []
  }
 ],
 "metadata": {
  "jupytext": {
   "cell_metadata_filter": "-all",
   "encoding": "# -*- coding: utf-8 -*-",
   "formats": "ipynb,py",
   "main_language": "python"
  },
  "kernelspec": {
   "display_name": "Python 3",
   "language": "python",
   "name": "python3"
  },
  "language_info": {
   "codemirror_mode": {
    "name": "ipython",
    "version": 3
   },
   "file_extension": ".py",
   "mimetype": "text/x-python",
   "name": "python",
   "nbconvert_exporter": "python",
   "pygments_lexer": "ipython3",
   "version": "3.8.10"
  },
  "widgets": {
   "application/vnd.jupyter.widget-state+json": {
    "state": {},
    "version_major": 2,
    "version_minor": 0
   }
  }
 },
 "nbformat": 4,
 "nbformat_minor": 5
}
